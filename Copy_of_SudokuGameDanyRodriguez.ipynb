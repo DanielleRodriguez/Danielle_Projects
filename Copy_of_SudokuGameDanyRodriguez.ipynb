{
  "nbformat": 4,
  "nbformat_minor": 0,
  "metadata": {
    "colab": {
      "name": "Copy of SudokuGameDanyRodriguez",
      "provenance": [],
      "authorship_tag": "ABX9TyOj2tEPbGJxeOZUpL/2VCju",
      "include_colab_link": true
    },
    "kernelspec": {
      "name": "python3",
      "display_name": "Python 3"
    }
  },
  "cells": [
    {
      "cell_type": "markdown",
      "metadata": {
        "id": "view-in-github",
        "colab_type": "text"
      },
      "source": [
        "<a href=\"https://colab.research.google.com/github/DanielleRodriguez/Danielle_Projects/blob/main/Copy_of_SudokuGameDanyRodriguez.ipynb\" target=\"_parent\"><img src=\"https://colab.research.google.com/assets/colab-badge.svg\" alt=\"Open In Colab\"/></a>"
      ]
    },
    {
      "cell_type": "code",
      "metadata": {
        "id": "xhGDn8WV6l8O",
        "colab": {
          "base_uri": "https://localhost:8080/"
        },
        "outputId": "d4c2aba9-c1de-4040-e376-f8f4bbe8a045"
      },
      "source": [
        "import numpy as np\n",
        "import random \n",
        "import pandas as pd\n",
        "\n",
        "\n",
        "#solveInitial --> already solved sudoku board serving as a base for the randomly generated unsolved sudoku boards\n",
        "#Going to manipulate it by swapping rows and columns as well as increasing every value by 1. \n",
        "\n",
        "solvedInitial = [[8, 2, 7, 1, 5, 4, 3, 9, 6, 9, 6, 5, 3, 2, 7, 1, 4, 8, 3, 4, 1, 6, 8, 9, 7, 5, 2, 5, 9, 3, 4, 6, 8, 2, 7, 1, 4, 7, 2, 5, 1, 3, 6, 8, 9, 6, 1, 8, 9, 7, 2, 4, 3, 5, 7, 8, 6, 2, 3, 5, 9, 1, 4, 1, 5, 4, 7, 9, 6, 8, 2, 3, 2, 3, 9, 8, 4, 1, 5, 6, 7]]\n",
        "\n",
        "matrixSolved = np.array(solvedInitial) #converts list to array\n",
        "\n",
        "solvedA = matrixSolved[0].reshape((9, 9)) #reshaping array so it is in 9x9 matrix form\n",
        "\n",
        "print(solvedA)\n"
      ],
      "execution_count": null,
      "outputs": [
        {
          "output_type": "stream",
          "name": "stdout",
          "text": [
            "[[8 2 7 1 5 4 3 9 6]\n",
            " [9 6 5 3 2 7 1 4 8]\n",
            " [3 4 1 6 8 9 7 5 2]\n",
            " [5 9 3 4 6 8 2 7 1]\n",
            " [4 7 2 5 1 3 6 8 9]\n",
            " [6 1 8 9 7 2 4 3 5]\n",
            " [7 8 6 2 3 5 9 1 4]\n",
            " [1 5 4 7 9 6 8 2 3]\n",
            " [2 3 9 8 4 1 5 6 7]]\n"
          ]
        }
      ]
    },
    {
      "cell_type": "code",
      "metadata": {
        "colab": {
          "base_uri": "https://localhost:8080/"
        },
        "id": "099al1dDB-L6",
        "outputId": "a09daab7-0f51-4d81-c9d1-1867021ee3ac"
      },
      "source": [
        "#Combination of row, column, and value increase. \n",
        "#eachBoard is an empty list that stores all of the new boards\n",
        "\n",
        "eachBoard = [] #List where all uniquely generated sudoku boards are stored\n",
        "step = 1 #value that each individual value is increased by \n",
        "\n",
        "\n",
        "for i in range(1,259):\n",
        "    for j in range(0,i):\n",
        "      rowSwap = np.roll(solvedA, -3, axis = 0) #first 3 rows moved to the bottom of matrix\n",
        "      colSwap = np.roll(rowSwap, -3, axis = 1) #first 3 columns moved to right side of matrix\n",
        "      newGrid = [x + step for x in colSwap] #This line of code increases each value by the step value\n",
        "\n",
        "      x = np.asarray(newGrid) \n",
        "      reshaped_array = x.reshape(9,9).T #This line of code reshapes the array so that its in the form of a 9x9 grid\n",
        "      reshaped_array[reshaped_array == 10] = 1 #This line of code takes every value that is 10 and replaces it with the value of 1.\n",
        "\n",
        "      eachBoard.append(rowSwap) #These 3 lines of code appends the newly generated sudoku boards to the list, eachBoard so that they can be called later. \n",
        "      eachBoard.append(colSwap) \n",
        "      eachBoard.append(reshaped_array)\n",
        "\n",
        "      solvedA = reshaped_array #I set solvedA equal to one of the newly generated sudoku boards so that it will continually loop through and keep generate new, unique, grids.\n",
        "\n",
        "#print(eachBoard[0])\n",
        "#print(\"\")\n",
        "#print(eachBoard[89])\n",
        "#print(\"\")\n",
        "#print(eachBoard[78976])\n",
        "#print(eachBoard[100232]) \n",
        "print(len(eachBoard))\n"
      ],
      "execution_count": null,
      "outputs": [
        {
          "output_type": "stream",
          "name": "stdout",
          "text": [
            "100233\n"
          ]
        }
      ]
    },
    {
      "cell_type": "code",
      "metadata": {
        "colab": {
          "base_uri": "https://localhost:8080/"
        },
        "id": "r9sfOHBsE6YG",
        "outputId": "6488418a-8e4f-49b4-d4e8-e3cb8f3d841c"
      },
      "source": [
        "from random import randrange\n",
        "\n",
        "randVal = randrange(100000) #These 5 lines of code generate a random number to call a random grid from the list of grids stored in eachBoard. \n",
        "\n",
        "board1 = eachBoard[randVal]\n",
        "board2 = eachBoard[randVal]\n",
        "board3 = eachBoard[randVal]\n",
        "board4 = eachBoard[randVal]\n",
        "\n",
        "\n",
        "#else if statement so users can pick their desired level of difficulty.\n",
        "user_input = input(\"Pick your level: 1, 2, 3, or 4: \")\n",
        "print(\"\")\n",
        "print(\"You have picked Level\", user_input)\n",
        "print(\"\")\n",
        "\n",
        "if user_input == \"1\":\n",
        "    print(\"Level 1 Solved:\" )\n",
        "    print(board1)\n",
        "\n",
        "elif user_input == \"2\":\n",
        "  print(\"Level 2 Solved:\" )\n",
        "  print(board2)\n",
        "\n",
        "elif user_input == \"3\":\n",
        "  print(\"Level 3 Solved:\" )\n",
        "  print(board3)\n",
        "\n",
        "else:\n",
        "  print(\"Level 4 Solved:\" )\n",
        "  print(board4)\n",
        "\n",
        "print(\"---------------------\")\n",
        "\n",
        "unsolvedBoard1 = board1 \n",
        "unsolvedBoard2 = board2 \n",
        "unsolvedBoard3 = board3 \n",
        "unsolvedBoard4 = board4 \n",
        "\n",
        "\n",
        "\n",
        "#else if statement to remove random values of the board and replace them with 0\n",
        "\n",
        "if user_input == \"1\":\n",
        "    #indices_x1 = np.random.choice(range(unsolvedBoard1.shape[0]), 10)\n",
        "    #indices_y1 = np.random.choice(range(unsolvedBoard1.shape[1]), 10)\n",
        "    indices_x1 = np.random.randint(0, unsolvedBoard1.shape[0], 10)\n",
        "    indices_y1 = np.random.randint(0, unsolvedBoard1.shape[1], 10)\n",
        "\n",
        "    unsolvedBoard1[indices_x1, indices_y1] = 0\n",
        "    print(\"Level 1 Unsolved:\") \n",
        "    print(unsolvedBoard1)\n",
        "\n",
        "elif user_input == \"2\":\n",
        "    indices_x2 = np.random.choice(range(unsolvedBoard2.shape[0]), 30)\n",
        "    indices_y2 = np.random.choice(range(unsolvedBoard2.shape[1]), 30)\n",
        "\n",
        "    unsolvedBoard2[indices_x2, indices_y2] = 0\n",
        "    print(\"Level 2 Unsolved:\") \n",
        "    print(unsolvedBoard2)\n",
        "\n",
        "elif user_input == \"3\":\n",
        "    indices_x3 = np.random.choice(range(unsolvedBoard3.shape[0]), 70)\n",
        "    indices_y3 = np.random.choice(range(unsolvedBoard3.shape[1]), 70)\n",
        "\n",
        "    unsolvedBoard3[indices_x3, indices_y3] = 0 \n",
        "    print(\"Level 3 Unsolved:\") \n",
        "    print(unsolvedBoard3)\n",
        "\n",
        "else:\n",
        "    indices_x4 = np.random.choice(range(unsolvedBoard4.shape[0]), 150)\n",
        "    indices_y4 = np.random.choice(range(unsolvedBoard4.shape[1]), 150)\n",
        "\n",
        "    unsolvedBoard4[indices_x4, indices_y4] = 0\n",
        "    print(\"Level 4 Unsolved:\") \n",
        "    print(unsolvedBoard4)"
      ],
      "execution_count": null,
      "outputs": [
        {
          "output_type": "stream",
          "name": "stdout",
          "text": [
            "Pick your level: 1, 2, 3, or 4: 2\n",
            "\n",
            "You have picked Level 2\n",
            "\n",
            "Level 2 Solved:\n",
            "[[1 3 5 8 4 7 2 6 9]\n",
            " [2 7 9 3 5 6 1 4 8]\n",
            " [6 4 8 1 9 2 3 7 5]\n",
            " [8 9 2 6 7 1 4 5 3]\n",
            " [4 6 3 5 8 9 7 2 1]\n",
            " [5 1 7 2 3 4 8 9 6]\n",
            " [7 2 1 9 6 3 5 8 4]\n",
            " [9 8 4 7 1 5 6 3 2]\n",
            " [3 5 6 4 2 8 9 1 7]]\n",
            "---------------------\n",
            "Level 2 Unsolved:\n",
            "[[0 3 5 8 4 7 2 0 9]\n",
            " [2 7 0 3 0 0 1 0 8]\n",
            " [6 4 8 1 9 0 3 0 5]\n",
            " [8 0 2 0 7 1 4 5 3]\n",
            " [4 6 3 0 8 0 0 2 1]\n",
            " [0 1 7 0 3 4 0 9 6]\n",
            " [7 2 1 9 0 0 0 8 4]\n",
            " [0 8 4 0 1 5 6 0 0]\n",
            " [0 5 6 0 2 0 9 1 7]]\n"
          ]
        }
      ]
    }
  ]
}